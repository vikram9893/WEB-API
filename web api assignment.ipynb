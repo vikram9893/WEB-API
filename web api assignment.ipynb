{
 "cells": [
  {
   "cell_type": "code",
   "execution_count": null,
   "id": "5c880177-899d-4fd9-b7df-cf8470219dbd",
   "metadata": {},
   "outputs": [],
   "source": [
    "Ans 1 APIs are used in web applications to connect user-facing front ends with critical back-end functionality and data.\n",
    "APIs are used to deliver material by streaming services such as Spotify and Netflix. \n",
    "APIs are used by automakers such as Tesla to provide software upgrades."
   ]
  },
  {
   "cell_type": "code",
   "execution_count": null,
   "id": "51033e8b-6378-40f8-8fed-7b69af7214e8",
   "metadata": {},
   "outputs": [],
   "source": [
    "Ans 2 Advantages:\n",
    "    Improved Efficiency\n",
    "    Better User Experience\n",
    "    Increased Flexibility\n",
    "    New Revenue Streams\n",
    "    Increased Interoperability\n",
    "    \n",
    "Disadvantage:\n",
    "    Security Concerns\n",
    "    Complexity\n",
    "    Compatibility Issues\n",
    "    Dependency on Third-Party Developers\n",
    "    Governance and Management\n"
   ]
  },
  {
   "cell_type": "code",
   "execution_count": null,
   "id": "f549dfc2-c79b-457c-9181-16439fc6a8f3",
   "metadata": {},
   "outputs": [],
   "source": [
    "Ans 3  A Web API is an application programming interface for the Web.\n",
    "A Browser API can extend the functionality of a web browser.\n",
    "A Server API can extend the functionality of a web server.\n",
    "\n",
    "API is an interface that exposes an application's data to outside software, whereas web applications are one type of API with stricter requirements. \n",
    "These requirements include network communication, SOAP as the primary protocol, and less accessibility for the public."
   ]
  },
  {
   "cell_type": "code",
   "execution_count": null,
   "id": "cb5d3ede-24fc-479f-aca3-f2f66623374f",
   "metadata": {},
   "outputs": [],
   "source": [
    "Ans 4 REST is a set of guidelines that offers flexible implementation,\n",
    "REST APIs are lightweight, making them ideal for newer contexts like the Internet of Things (IoT), \n",
    "mobile application development, and serverless computing.\n",
    "whereas SOAP is a protocol with specific requirements like XML messaging. \n",
    "In comparison to Rest, SOAP is significantly more complex. It's also less flexible.\n",
    "SOAP is also extremely limited in its support of data formats.\n"
   ]
  },
  {
   "cell_type": "code",
   "execution_count": null,
   "id": "f06d2db9-11c7-4ae2-80fb-ad462f3055f7",
   "metadata": {},
   "outputs": [],
   "source": [
    "Ans 5 (REST) is a set of architectural principles.\n",
    "SOAP is an official protocol maintained by the World Wide Web Consortium (W3C).\n",
    "The main difference is that SOAP is a protocol while REST is not.\n",
    "SOAP needs more bandwidth for its usage whereas REST doesn’t need much bandwidth.\n",
    "SOAP cannot make use of REST whereas REST can make use of SOAP.\n",
    "Comparing SOAP vs REST API, SOAP only works with XML formats whereas REST work with plain text, XML, HTML and JSON."
   ]
  }
 ],
 "metadata": {
  "kernelspec": {
   "display_name": "Python 3 (ipykernel)",
   "language": "python",
   "name": "python3"
  },
  "language_info": {
   "codemirror_mode": {
    "name": "ipython",
    "version": 3
   },
   "file_extension": ".py",
   "mimetype": "text/x-python",
   "name": "python",
   "nbconvert_exporter": "python",
   "pygments_lexer": "ipython3",
   "version": "3.10.8"
  }
 },
 "nbformat": 4,
 "nbformat_minor": 5
}
